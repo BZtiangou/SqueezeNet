{
 "cells": [
  {
   "cell_type": "code",
   "execution_count": 1,
   "metadata": {},
   "outputs": [],
   "source": [
    "\n",
    "# from models.SqueezeNet import SqueezeNet\n",
    "# from models.mtcnn import fixed_image_standardization\n",
    "from models.utils import training\n",
    "import torch\n",
    "from torch import nn\n",
    "from torch.utils.data import DataLoader, SubsetRandomSampler\n",
    "from torch import optim\n",
    "from torch.optim.lr_scheduler import MultiStepLR\n",
    "from torch.utils.tensorboard import SummaryWriter\n",
    "from torchvision import datasets, transforms\n",
    "import numpy as np\n",
    "import torchvision.models as models\n",
    "import sys,os\n",
    "sys.path.append(os.getcwd())\n",
    "\n",
    "\n",
    "\n",
    "workers = 0 if os.name == 'nt' else 4"
   ]
  },
  {
   "cell_type": "code",
   "execution_count": 2,
   "metadata": {},
   "outputs": [],
   "source": [
    "data_dir = './data'\n",
    "batch_size = 64\n",
    "epochs = 800\n",
    "workers = 0 if os.name == 'nt' else 8"
   ]
  },
  {
   "cell_type": "code",
   "execution_count": 3,
   "metadata": {},
   "outputs": [
    {
     "name": "stdout",
     "output_type": "stream",
     "text": [
      "Running on device: cuda:0\n",
      "True\n",
      "2.1.0+cu121\n"
     ]
    }
   ],
   "source": [
    "device = torch.device('cuda:0' if torch.cuda.is_available() else 'cpu')\n",
    "print('Running on device: {}'.format(device))\n",
    "print(torch.cuda.is_available())\n",
    "print(torch.__version__)"
   ]
  },
  {
   "cell_type": "code",
   "execution_count": 4,
   "metadata": {},
   "outputs": [],
   "source": [
    "from models.mtcnn import MTCNN\n",
    "\n",
    "mtcnn = MTCNN(\n",
    "    image_size=160, margin=0, min_face_size=20,\n",
    "    thresholds=[0.6, 0.7, 0.7], factor=0.709, post_process=True,\n",
    "    device=device\n",
    ")"
   ]
  },
  {
   "cell_type": "code",
   "execution_count": 5,
   "metadata": {},
   "outputs": [],
   "source": [
    "# preprocess = transforms.Compose([\n",
    "#     transforms.Resize(256),\n",
    "#     transforms.CenterCrop(224),\n",
    "#     transforms.ToTensor(),\n",
    "#     transforms.Normalize(mean=[0.485, 0.456, 0.406], std=[0.229, 0.224, 0.225]),\n",
    "# ])\n",
    "\n",
    "\n",
    "# dataset = datasets.ImageFolder(data_dir, transform=transforms.Resize((512, 512)))\n",
    "# dataset.samples = [\n",
    "#     (p, p.replace(data_dir, data_dir + '_cropped'))\n",
    "#         for p, _ in dataset.samples\n",
    "# ]\n",
    "\n",
    "# loader = DataLoader(\n",
    "#     dataset,\n",
    "#     num_workers=workers,\n",
    "#     batch_size=batch_size,\n",
    "#     collate_fn=training.collate_pil\n",
    "# )\n",
    "\n",
    "# for i, (x,y) in enumerate(loader):\n",
    "#     # print(f\"y is {y}\")\n",
    "#     mtcnn(x, save_path=y)\n",
    "#     print('\\rBatch {} of {}'.format(i + 1, len(loader)), end='')\n",
    "\n",
    "\n",
    "\n",
    "preprocess = transforms.Compose([\n",
    "    transforms.Resize(256),\n",
    "    transforms.CenterCrop(224),\n",
    "    transforms.ToTensor(),\n",
    "    transforms.Normalize(mean=[0.485, 0.456, 0.406], std=[0.229, 0.224, 0.225]),\n",
    "])\n",
    "\n",
    "dataset = datasets.ImageFolder(data_dir+'_cropped', transform=preprocess)"
   ]
  },
  {
   "cell_type": "code",
   "execution_count": 6,
   "metadata": {},
   "outputs": [
    {
     "name": "stdout",
     "output_type": "stream",
     "text": [
      "torch.Size([499, 512, 1, 1])\n"
     ]
    },
    {
     "name": "stderr",
     "output_type": "stream",
     "text": [
      "e:\\anaconda\\envs\\facenet\\lib\\site-packages\\torchvision\\models\\_utils.py:208: UserWarning: The parameter 'pretrained' is deprecated since 0.13 and may be removed in the future, please use 'weights' instead.\n",
      "  warnings.warn(\n",
      "e:\\anaconda\\envs\\facenet\\lib\\site-packages\\torchvision\\models\\_utils.py:223: UserWarning: Arguments other than a weight enum or `None` for 'weights' are deprecated since 0.13 and may be removed in the future. The current behavior is equivalent to passing `weights=SqueezeNet1_1_Weights.IMAGENET1K_V1`. You can also use `weights=SqueezeNet1_1_Weights.DEFAULT` to get the most up-to-date weights.\n",
      "  warnings.warn(msg)\n"
     ]
    }
   ],
   "source": [
    "\n",
    "\n",
    "squeeze = models.squeezenet1_1(pretrained=True)\n",
    "\n",
    "# squeeze = squeezenet1_1(weights=SqueezeNet1_1_Weights.DEFAULT,progress=True, num_classes=499)\n",
    "\n",
    "# state_dict = torch.utils.model_zoo.load_url('https://download.pytorch.org/models/squeezenet1_1-b8a52dc0.pth')\n",
    "# squeeze = SqueezeNet(\n",
    "# dropout=0.5, version='1_1')\n",
    "# squeeze.load_state_dict(state_dict)\n",
    "\n",
    "for param in squeeze.parameters():\n",
    "    param.requires_grad = False\n",
    "\n",
    "\n",
    "final_conv = nn.Conv2d(512, dataset.class_to_idx.__len__(), kernel_size=1)\n",
    "nn.init.xavier_uniform_(final_conv.weight) # Xavier uniform initialization\n",
    "# nn.init.normal_(final_conv.weight, mean=0.0, std=0.01) # Normal initialization\n",
    "nn.init.constant_(final_conv.bias, 0) # Initialize bias with a constant\n",
    "squeeze.classifier[1] = final_conv\n",
    "squeeze = squeeze.to('cuda')\n",
    "\n",
    "\n",
    "for param in squeeze.classifier[1].parameters():\n",
    "    param.requires_grad = True\n",
    "\n",
    "\n",
    "# 解冻模型的最后两个Fire模块\n",
    "for param in squeeze.features[-1:].parameters():\n",
    "    param.requires_grad = True\n",
    "\n",
    "\n",
    "print(final_conv.weight.shape)\n",
    "\n",
    "\n",
    "\n",
    "# print(squeeze.state_dict())\n",
    "\n",
    "# print(squeeze.classifier[1].state_dict())\n",
    "# print(squeeze.features[0])\n",
    "\n",
    "\n"
   ]
  },
  {
   "cell_type": "code",
   "execution_count": 7,
   "metadata": {},
   "outputs": [],
   "source": [
    "optimizer = optim.Adam(squeeze.parameters(), lr=0.002)\n",
    "scheduler = MultiStepLR(optimizer, [5, 10])\n",
    "\n",
    "\n",
    "img_inds = np.arange(len(dataset))\n",
    "np.random.shuffle(img_inds)\n",
    "train_inds = img_inds[:int(0.8 * len(img_inds))]\n",
    "val_inds = img_inds[int(0.8 * len(img_inds)):]\n",
    "\n",
    "train_loader = DataLoader(\n",
    "    dataset,\n",
    "    num_workers=workers,\n",
    "    batch_size=batch_size,\n",
    "    sampler=SubsetRandomSampler(train_inds)\n",
    ")\n",
    "val_loader = DataLoader(\n",
    "    dataset,\n",
    "    num_workers=workers,\n",
    "    batch_size=batch_size,\n",
    "    sampler=SubsetRandomSampler(val_inds)\n",
    ")"
   ]
  },
  {
   "cell_type": "code",
   "execution_count": 8,
   "metadata": {},
   "outputs": [],
   "source": [
    "loss_fn = torch.nn.CrossEntropyLoss()\n",
    "metrics = {\n",
    "    'fps': training.BatchTimer(),\n",
    "    'acc': training.accuracy\n",
    "}"
   ]
  },
  {
   "cell_type": "code",
   "execution_count": 9,
   "metadata": {},
   "outputs": [
    {
     "name": "stdout",
     "output_type": "stream",
     "text": [
      "\n",
      "\n",
      "初始化\n",
      "----------\n"
     ]
    }
   ],
   "source": [
    "\n",
    "writer = SummaryWriter()\n",
    "writer.iteration, writer.interval = 0, 10\n",
    "print('\\n\\n初始化')\n",
    "print('-' * 10)\n",
    "squeeze.eval()\n",
    "training.pass_epoch(\n",
    "    squeeze, loss_fn, val_loader,\n",
    "    batch_metrics=metrics, show_running=True, device=device,\n",
    "    writer=writer\n",
    "   \n",
    ")\n",
    "\n",
    "for epoch in range(epochs):\n",
    "    print('\\n循环 {}/{}'.format(epoch + 1, epochs))\n",
    "    print('-' * 10)\n",
    "    squeeze.train()\n",
    "    training.pass_epoch(\n",
    "        squeeze, loss_fn, train_loader, optimizer, scheduler,\n",
    "        batch_metrics=metrics, show_running=True, device=device,\n",
    "        writer=writer\n",
    " \n",
    "    )\n",
    "\n",
    "    squeeze.eval()\n",
    "    training.pass_epoch(\n",
    "        squeeze, loss_fn, val_loader,\n",
    "        batch_metrics=metrics, show_running=True, device=device,\n",
    "        writer=writer\n",
    "     \n",
    "    )\n",
    "    \n",
    "\n",
    "writer.close()"
   ]
  }
 ],
 "metadata": {
  "kernelspec": {
   "display_name": "facenet",
   "language": "python",
   "name": "python3"
  },
  "language_info": {
   "codemirror_mode": {
    "name": "ipython",
    "version": 3
   },
   "file_extension": ".py",
   "mimetype": "text/x-python",
   "name": "python",
   "nbconvert_exporter": "python",
   "pygments_lexer": "ipython3",
   "version": "3.10.13"
  }
 },
 "nbformat": 4,
 "nbformat_minor": 2
}
